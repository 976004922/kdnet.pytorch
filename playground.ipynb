{
 "cells": [
  {
   "cell_type": "code",
   "execution_count": 1,
   "metadata": {
    "collapsed": false
   },
   "outputs": [],
   "source": [
    "from datasets import PartDataset\n",
    "import numpy as np\n",
    "import torch\n",
    "import torch.nn as nn\n",
    "import torch.nn.functional as F\n",
    "from torch.autograd import Variable"
   ]
  },
  {
   "cell_type": "code",
   "execution_count": 2,
   "metadata": {
    "collapsed": false
   },
   "outputs": [
    {
     "name": "stdout",
     "output_type": "stream",
     "text": [
      "{'Earphone': 0, 'Motorbike': 1, 'Rocket': 2, 'Car': 3, 'Laptop': 4, 'Cap': 5, 'Skateboard': 6, 'Lamp': 10, 'Guitar': 8, 'Bag': 9, 'Mug': 7, 'Table': 11, 'Airplane': 12, 'Pistol': 13, 'Chair': 14, 'Knife': 15}\n"
     ]
    }
   ],
   "source": [
    "d = PartDataset(root = '../unsupervised3d/shapenetcore_partanno_segmentation_benchmark_v0', classification = True)"
   ]
  },
  {
   "cell_type": "code",
   "execution_count": 151,
   "metadata": {
    "collapsed": false
   },
   "outputs": [
    {
     "data": {
      "text/plain": [
       "16"
      ]
     },
     "execution_count": 151,
     "metadata": {},
     "output_type": "execute_result"
    }
   ],
   "source": [
    "len(d.classes)"
   ]
  },
  {
   "cell_type": "code",
   "execution_count": 3,
   "metadata": {
    "collapsed": false
   },
   "outputs": [],
   "source": [
    "levels = (np.log(2048)/np.log(2)).astype(int)"
   ]
  },
  {
   "cell_type": "code",
   "execution_count": 4,
   "metadata": {
    "collapsed": false
   },
   "outputs": [],
   "source": [
    "cutdim = torch.zeros((levels)).long()\n",
    "#branch = torch.zeros((2048, levels)).long()"
   ]
  },
  {
   "cell_type": "code",
   "execution_count": 5,
   "metadata": {
    "collapsed": false
   },
   "outputs": [],
   "source": [
    "def split_ps(point_set):\n",
    "    #print point_set.size()\n",
    "    num_points = point_set.size()[0]/2\n",
    "    diff = point_set.max(dim=0)[0] - point_set.min(dim=0)[0] \n",
    "    dim = torch.max(diff, dim = 1)[1][0,0]\n",
    "    cut = torch.median(point_set[:,dim])[0][0]  \n",
    "    left_idx = torch.squeeze(torch.nonzero(point_set[:,dim] > cut))\n",
    "    right_idx = torch.squeeze(torch.nonzero(point_set[:,dim] < cut))\n",
    "    middle_idx = torch.squeeze(torch.nonzero(point_set[:,dim] == cut))\n",
    "    \n",
    "    #if torch.numel(left_idx) > 0:\n",
    "    #    left_idx = left_idx[:,0]\n",
    "    #if torch.numel(right_idx) > 0:\n",
    "    #    right_idx = right_idx[:,0]\n",
    "    #if torch.numel(middle_idx) > 0:\n",
    "    #    middle_idx = middle_idx[:,0] \n",
    "    \n",
    "    if torch.numel(left_idx) < num_points:\n",
    "        left_idx = torch.cat([left_idx, middle_idx[0:1].repeat(num_points - torch.numel(left_idx))], 0)\n",
    "    if torch.numel(right_idx) < num_points:\n",
    "        right_idx = torch.cat([right_idx, middle_idx[0:1].repeat(num_points - torch.numel(right_idx))], 0)\n",
    "    \n",
    "    left_ps = torch.index_select(point_set, dim = 0, index = left_idx)\n",
    "    right_ps = torch.index_select(point_set, dim = 0, index = right_idx)\n",
    "    return left_ps, right_ps, dim "
   ]
  },
  {
   "cell_type": "code",
   "execution_count": 34,
   "metadata": {
    "collapsed": false
   },
   "outputs": [
    {
     "name": "stdout",
     "output_type": "stream",
     "text": [
      "CPU times: user 1.28 s, sys: 0 ns, total: 1.28 s\n",
      "Wall time: 1.28 s\n"
     ]
    }
   ],
   "source": [
    "%%time\n",
    "for i in range(10):\n",
    "    #print i\n",
    "    point_set, class_label = d[i]\n",
    "    tree = [[] for i in range(levels + 1)]\n",
    "    cutdim = [[] for i in range(levels)]\n",
    "    tree[0].append(point_set)\n",
    "    for level in range(levels):\n",
    "        for item in tree[level]:\n",
    "            left_ps, right_ps, dim = split_ps(item)\n",
    "            tree[level+1].append(left_ps)\n",
    "            tree[level+1].append(right_ps)\n",
    "            cutdim[level].append(dim)  \n",
    "            cutdim[level].append(dim)  \n",
    "    cutdim = [(torch.from_numpy(np.array(item).astype(np.int64))) for item in cutdim]\n",
    "    points = torch.stack(tree[-1])\n",
    "    \n",
    "    \n",
    "points_v = Variable(torch.unsqueeze(torch.squeeze(points), 0)).transpose(2,1)"
   ]
  },
  {
   "cell_type": "code",
   "execution_count": 174,
   "metadata": {
    "collapsed": false
   },
   "outputs": [],
   "source": [
    "class KDNet(nn.Module):\n",
    "    def __init__(self, k = 16):\n",
    "        super(KDNet, self).__init__()\n",
    "        self.conv1 = nn.Conv1d(3,8 * 3,1,1)\n",
    "        self.conv2 = nn.Conv1d(8,32 * 3,1,1)\n",
    "        self.conv3 = nn.Conv1d(32,64 * 3,1,1)\n",
    "        self.conv4 = nn.Conv1d(64,64 * 3,1,1)\n",
    "        self.conv5 = nn.Conv1d(64,64 * 3,1,1)\n",
    "        self.conv6 = nn.Conv1d(64,128 * 3,1,1)\n",
    "        self.conv7 = nn.Conv1d(128,256 * 3,1,1)\n",
    "        self.conv8 = nn.Conv1d(256,512 * 3,1,1)\n",
    "        self.conv9 = nn.Conv1d(512,512 * 3,1,1)\n",
    "        self.conv10 = nn.Conv1d(512,512 * 3,1,1)\n",
    "        self.conv11 = nn.Conv1d(512,1024 * 3,1,1)      \n",
    "        self.fc = nn.Linear(1024, k)\n",
    "\n",
    "    def forward(self, x, c):\n",
    "        def kdconv(x, dim, featdim, sel, conv):\n",
    "            x =  F.relu(conv(x))\n",
    "            x = x.view(-1, featdim, 3, dim)\n",
    "            x = x.view(-1, featdim, 3 * dim)\n",
    "            sel = Variable(sel + (torch.arange(0,dim) * 3).long())\n",
    "            if x.is_cuda:\n",
    "                sel = sel.cuda()     \n",
    "            x = torch.index_select(x, dim = 2, index = sel)\n",
    "            x = x.view(-1, featdim, dim/2, 2)\n",
    "            x = torch.squeeze(torch.max(x, dim = -1)[0], 3)\n",
    "            return x      \n",
    "        \n",
    "        x1 = kdconv(x, 2048, 8, c[-1], self.conv1)\n",
    "        x2 = kdconv(x1, 1024, 32, c[-2], self.conv2)\n",
    "        x3 = kdconv(x2, 512, 64, c[-3], self.conv3)\n",
    "        x4 = kdconv(x3, 256, 64, c[-4], self.conv4)\n",
    "        x5 = kdconv(x4, 128, 64, c[-5], self.conv5)\n",
    "        x6 = kdconv(x5, 64, 128, c[-6], self.conv6)\n",
    "        x7 = kdconv(x6, 32, 256, c[-7], self.conv7)\n",
    "        x8 = kdconv(x7, 16, 512, c[-8], self.conv8)\n",
    "        x9 = kdconv(x8, 8, 512, c[-9], self.conv9)\n",
    "        x10 = kdconv(x9, 4, 512, c[-10], self.conv10)\n",
    "        x11 = kdconv(x10, 2, 1024, c[-11], self.conv11)\n",
    "        x11 = x11.view(-1,1024)\n",
    "        out = F.log_softmax(self.fc(x11))\n",
    "        return out\n",
    "        \n",
    "net = KDNet()"
   ]
  },
  {
   "cell_type": "code",
   "execution_count": 175,
   "metadata": {
    "collapsed": false
   },
   "outputs": [],
   "source": [
    "x = net(points_v, cutdim)"
   ]
  },
  {
   "cell_type": "code",
   "execution_count": 176,
   "metadata": {
    "collapsed": false
   },
   "outputs": [
    {
     "data": {
      "text/plain": [
       "torch.Size([1, 3, 2048])"
      ]
     },
     "execution_count": 176,
     "metadata": {},
     "output_type": "execute_result"
    }
   ],
   "source": [
    "points_v.size()"
   ]
  },
  {
   "cell_type": "code",
   "execution_count": 177,
   "metadata": {
    "collapsed": false
   },
   "outputs": [],
   "source": [
    "torch.sum(x).backward()"
   ]
  },
  {
   "cell_type": "code",
   "execution_count": 178,
   "metadata": {
    "collapsed": false
   },
   "outputs": [
    {
     "data": {
      "text/plain": [
       "\n",
       " 0\n",
       "[torch.LongTensor of size 1]"
      ]
     },
     "execution_count": 178,
     "metadata": {},
     "output_type": "execute_result"
    }
   ],
   "source": [
    "class_label"
   ]
  },
  {
   "cell_type": "code",
   "execution_count": null,
   "metadata": {
    "collapsed": true
   },
   "outputs": [],
   "source": []
  }
 ],
 "metadata": {
  "kernelspec": {
   "display_name": "Python 2",
   "language": "python",
   "name": "python2"
  },
  "language_info": {
   "codemirror_mode": {
    "name": "ipython",
    "version": 2
   },
   "file_extension": ".py",
   "mimetype": "text/x-python",
   "name": "python",
   "nbconvert_exporter": "python",
   "pygments_lexer": "ipython2",
   "version": "2.7.12"
  }
 },
 "nbformat": 4,
 "nbformat_minor": 2
}
