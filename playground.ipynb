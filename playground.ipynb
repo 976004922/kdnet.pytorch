{
 "cells": [
  {
   "cell_type": "code",
   "execution_count": 1,
   "metadata": {
    "collapsed": false
   },
   "outputs": [],
   "source": [
    "from datasets import PartDataset\n",
    "import numpy as np\n",
    "import torch\n",
    "import torch.nn as nn\n",
    "import torch.nn.functional as F\n",
    "from torch.autograd import Variable"
   ]
  },
  {
   "cell_type": "code",
   "execution_count": 2,
   "metadata": {
    "collapsed": false
   },
   "outputs": [
    {
     "name": "stdout",
     "output_type": "stream",
     "text": [
      "{'Earphone': 0, 'Motorbike': 1, 'Rocket': 2, 'Car': 3, 'Laptop': 4, 'Cap': 5, 'Skateboard': 6, 'Lamp': 10, 'Guitar': 8, 'Bag': 9, 'Mug': 7, 'Table': 11, 'Airplane': 12, 'Pistol': 13, 'Chair': 14, 'Knife': 15}\n"
     ]
    }
   ],
   "source": [
    "d = PartDataset(root = '../unsupervised3d/shapenetcore_partanno_segmentation_benchmark_v0', classification = True)"
   ]
  },
  {
   "cell_type": "code",
   "execution_count": 3,
   "metadata": {
    "collapsed": false
   },
   "outputs": [],
   "source": [
    "levels = (np.log(2048)/np.log(2)).astype(int)"
   ]
  },
  {
   "cell_type": "code",
   "execution_count": 4,
   "metadata": {
    "collapsed": false
   },
   "outputs": [],
   "source": [
    "cutdim = torch.zeros((levels)).long()\n",
    "#branch = torch.zeros((2048, levels)).long()"
   ]
  },
  {
   "cell_type": "code",
   "execution_count": 95,
   "metadata": {
    "collapsed": false
   },
   "outputs": [],
   "source": [
    "def split_ps(point_set):\n",
    "    #print point_set.size()\n",
    "    num_points = point_set.size()[0]/2\n",
    "    diff = point_set.max(dim=0)[0] - point_set.min(dim=0)[0] \n",
    "    dim = torch.max(diff, dim = 1)[1][0,0]\n",
    "    cut = torch.median(point_set[:,dim])[0][0]  \n",
    "    left_idx = torch.squeeze(torch.nonzero(point_set[:,dim] > cut))\n",
    "    right_idx = torch.squeeze(torch.nonzero(point_set[:,dim] < cut))\n",
    "    middle_idx = torch.squeeze(torch.nonzero(point_set[:,dim] == cut))\n",
    "    \n",
    "    #if torch.numel(left_idx) > 0:\n",
    "    #    left_idx = left_idx[:,0]\n",
    "    #if torch.numel(right_idx) > 0:\n",
    "    #    right_idx = right_idx[:,0]\n",
    "    #if torch.numel(middle_idx) > 0:\n",
    "    #    middle_idx = middle_idx[:,0] \n",
    "    \n",
    "    if torch.numel(left_idx) < num_points:\n",
    "        left_idx = torch.cat([left_idx, middle_idx[0:1].repeat(num_points - torch.numel(left_idx))], 0)\n",
    "    if torch.numel(right_idx) < num_points:\n",
    "        right_idx = torch.cat([right_idx, middle_idx[0:1].repeat(num_points - torch.numel(right_idx))], 0)\n",
    "    \n",
    "    left_ps = torch.index_select(point_set, dim = 0, index = left_idx)\n",
    "    right_ps = torch.index_select(point_set, dim = 0, index = right_idx)\n",
    "    return left_ps, right_ps, dim "
   ]
  },
  {
   "cell_type": "code",
   "execution_count": 145,
   "metadata": {
    "collapsed": false
   },
   "outputs": [
    {
     "name": "stdout",
     "output_type": "stream",
     "text": [
      "CPU times: user 1.23 s, sys: 12 ms, total: 1.24 s\n",
      "Wall time: 1.24 s\n"
     ]
    }
   ],
   "source": [
    "%%time\n",
    "for i in range(10):\n",
    "    #print i\n",
    "    point_set, class_label = d[i]\n",
    "    tree = [[] for i in range(levels + 1)]\n",
    "    cutdim = [[] for i in range(levels)]\n",
    "    tree[0].append(point_set)\n",
    "    for level in range(levels):\n",
    "        for item in tree[level]:\n",
    "            left_ps, right_ps, dim = split_ps(item)\n",
    "            tree[level+1].append(left_ps)\n",
    "            tree[level+1].append(right_ps)\n",
    "            cutdim[level].append(dim)  \n",
    "            cutdim[level].append(dim)  \n",
    "    cutdim = [Variable(torch.from_numpy(np.array(item).astype(np.int64))) for item in cutdim]\n",
    "    points = torch.stack(tree[-1])\n",
    "    \n",
    "    \n",
    "points_v = Variable(torch.unsqueeze(torch.squeeze(points), 0)).transpose(2,1)"
   ]
  },
  {
   "cell_type": "code",
   "execution_count": 165,
   "metadata": {
    "collapsed": false
   },
   "outputs": [],
   "source": [
    "class KDNet(nn.Module):\n",
    "    def __init__(self):\n",
    "        super(KDNet, self).__init__()\n",
    "        self.conv1 = nn.Conv1d(3,8 * 3,1,1)\n",
    "        \n",
    "\n",
    "    def forward(self, x, c):\n",
    "        x1 = self.conv1(x)\n",
    "        #x1 = x1.view(-1, 3, 8, 2048)\n",
    "        #sel = c[-1]\n",
    "        \n",
    "        #x1 = torch.index_select(x1, dim = 1, index = sel)\n",
    "        \n",
    "        return x1\n",
    "        \n",
    "net = KDNet()"
   ]
  },
  {
   "cell_type": "code",
   "execution_count": 166,
   "metadata": {
    "collapsed": false
   },
   "outputs": [],
   "source": [
    "x = net(points_v, cutdim)"
   ]
  },
  {
   "cell_type": "code",
   "execution_count": null,
   "metadata": {
    "collapsed": true
   },
   "outputs": [],
   "source": []
  },
  {
   "cell_type": "code",
   "execution_count": 167,
   "metadata": {
    "collapsed": false
   },
   "outputs": [
    {
     "data": {
      "text/plain": [
       "Variable containing:\n",
       "( 0  ,.,.) = \n",
       " -1.0363e+00 -1.0316e+00 -1.0316e+00  ...  -1.3211e-02 -1.3213e-02 -1.3207e-02\n",
       "  3.9648e-01  3.9941e-01  3.9941e-01  ...  -7.5476e-01 -7.5476e-01 -7.5477e-01\n",
       "  3.3743e-01  3.2779e-01  3.2779e-01  ...  -2.3070e-01 -2.3070e-01 -2.3070e-01\n",
       "                 ...                   ⋱                   ...                \n",
       " -8.4430e-01 -8.3342e-01 -8.3342e-01  ...  -1.9406e-01 -1.9406e-01 -1.9405e-01\n",
       "  2.6654e-02  2.4352e-02  2.4351e-02  ...   1.4608e-01  1.4608e-01  1.4608e-01\n",
       " -7.8591e-01 -7.9823e-01 -7.9823e-01  ...   2.9584e-02  2.9581e-02  2.9582e-02\n",
       "[torch.FloatTensor of size 1x24x2048]"
      ]
     },
     "execution_count": 167,
     "metadata": {},
     "output_type": "execute_result"
    }
   ],
   "source": [
    "x"
   ]
  },
  {
   "cell_type": "code",
   "execution_count": null,
   "metadata": {
    "collapsed": true
   },
   "outputs": [],
   "source": []
  }
 ],
 "metadata": {
  "kernelspec": {
   "display_name": "Python 2",
   "language": "python",
   "name": "python2"
  },
  "language_info": {
   "codemirror_mode": {
    "name": "ipython",
    "version": 2
   },
   "file_extension": ".py",
   "mimetype": "text/x-python",
   "name": "python",
   "nbconvert_exporter": "python",
   "pygments_lexer": "ipython2",
   "version": "2.7.12"
  }
 },
 "nbformat": 4,
 "nbformat_minor": 2
}
